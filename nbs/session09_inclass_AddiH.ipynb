{
 "cells": [
  {
   "cell_type": "markdown",
   "id": "7f8852dc-cc1d-4682-9195-0eb1f3288f3a",
   "metadata": {},
   "source": [
    "# Feature extraction using VGG16"
   ]
  },
  {
   "cell_type": "code",
   "execution_count": 1,
   "id": "52d9c481-2e98-48fd-9c7a-06b9f857b453",
   "metadata": {
    "execution": {
     "iopub.execute_input": "2022-04-19T18:58:30.188722Z",
     "iopub.status.busy": "2022-04-19T18:58:30.188221Z",
     "iopub.status.idle": "2022-04-19T18:58:30.200334Z",
     "shell.execute_reply": "2022-04-19T18:58:30.199540Z",
     "shell.execute_reply.started": "2022-04-19T18:58:30.188669Z"
    },
    "tags": []
   },
   "outputs": [
    {
     "name": "stderr",
     "output_type": "stream",
     "text": [
      "2023-04-14 13:20:28.810352: I tensorflow/tsl/cuda/cudart_stub.cc:28] Could not find cuda drivers on your machine, GPU will not be used.\n",
      "2023-04-14 13:20:28.867225: I tensorflow/tsl/cuda/cudart_stub.cc:28] Could not find cuda drivers on your machine, GPU will not be used.\n",
      "2023-04-14 13:20:28.868189: I tensorflow/core/platform/cpu_feature_guard.cc:182] This TensorFlow binary is optimized to use available CPU instructions in performance-critical operations.\n",
      "To enable the following instructions: AVX2 AVX512F FMA, in other operations, rebuild TensorFlow with the appropriate compiler flags.\n",
      "2023-04-14 13:20:30.046827: W tensorflow/compiler/tf2tensorrt/utils/py_utils.cc:38] TF-TRT Warning: Could not find TensorRT\n"
     ]
    }
   ],
   "source": [
    "# tf tools\n",
    "import tensorflow as tf\n",
    "\n",
    "# image processsing\n",
    "from tensorflow.keras.preprocessing.image import (load_img,\n",
    "                                                  img_to_array,\n",
    "                                                  ImageDataGenerator)\n",
    "# VGG16 model\n",
    "from tensorflow.keras.applications.vgg16 import (preprocess_input,\n",
    "                                                 decode_predictions,\n",
    "                                                 VGG16)\n",
    "# cifar10 data - 32x32\n",
    "from tensorflow.keras.datasets import cifar10\n",
    "\n",
    "# layers\n",
    "from tensorflow.keras.layers import (Flatten, \n",
    "                                     Dense, \n",
    "                                     Dropout, \n",
    "                                     BatchNormalization)\n",
    "# generic model object\n",
    "from tensorflow.keras.models import Model\n",
    "\n",
    "# optimizers\n",
    "from tensorflow.keras.optimizers.schedules import ExponentialDecay\n",
    "from tensorflow.keras.optimizers import SGD\n",
    "\n",
    "#scikit-learn\n",
    "from sklearn.preprocessing import LabelBinarizer\n",
    "from sklearn.metrics import classification_report\n",
    "\n",
    "# for plotting\n",
    "import numpy as np\n",
    "import matplotlib.pyplot as plt"
   ]
  },
  {
   "cell_type": "markdown",
   "id": "478639e6-1ecd-4f80-aafd-3d340be56d68",
   "metadata": {},
   "source": [
    "## Plotting function (from last week)"
   ]
  },
  {
   "cell_type": "code",
   "execution_count": 2,
   "id": "9a0153a8-8003-4e9f-970d-bda83ad9b8f9",
   "metadata": {
    "execution": {
     "iopub.execute_input": "2022-04-19T18:40:01.558147Z",
     "iopub.status.busy": "2022-04-19T18:40:01.558019Z",
     "iopub.status.idle": "2022-04-19T18:40:01.564573Z",
     "shell.execute_reply": "2022-04-19T18:40:01.564090Z",
     "shell.execute_reply.started": "2022-04-19T18:40:01.558127Z"
    }
   },
   "outputs": [],
   "source": [
    "def plot_history(H, epochs):\n",
    "    plt.style.use(\"seaborn-colorblind\")\n",
    "\n",
    "    plt.figure(figsize=(12,6))\n",
    "    plt.subplot(1,2,1)\n",
    "    plt.plot(np.arange(0, epochs), H.history[\"loss\"], label=\"train_loss\")\n",
    "    plt.plot(np.arange(0, epochs), H.history[\"val_loss\"], label=\"val_loss\", linestyle=\":\")\n",
    "    plt.title(\"Loss curve\")\n",
    "    plt.xlabel(\"Epoch\")\n",
    "    plt.ylabel(\"Loss\")\n",
    "    plt.tight_layout()\n",
    "    plt.legend()\n",
    "\n",
    "    plt.subplot(1,2,2)\n",
    "    plt.plot(np.arange(0, epochs), H.history[\"accuracy\"], label=\"train_acc\")\n",
    "    plt.plot(np.arange(0, epochs), H.history[\"val_accuracy\"], label=\"val_acc\", linestyle=\":\")\n",
    "    plt.title(\"Accuracy curve\")\n",
    "    plt.xlabel(\"Epoch\")\n",
    "    plt.ylabel(\"Accuracy\")\n",
    "    plt.tight_layout()\n",
    "    plt.legend()\n",
    "    plt.show()"
   ]
  },
  {
   "cell_type": "markdown",
   "id": "be58914b-325c-4151-bfa7-7675139bf144",
   "metadata": {},
   "source": [
    "## Initialize the model"
   ]
  },
  {
   "cell_type": "code",
   "execution_count": 3,
   "id": "8449b064-1bd3-482d-95af-cf82afe54454",
   "metadata": {
    "execution": {
     "iopub.execute_input": "2022-04-19T18:40:01.565319Z",
     "iopub.status.busy": "2022-04-19T18:40:01.565186Z",
     "iopub.status.idle": "2022-04-19T18:40:03.489754Z",
     "shell.execute_reply": "2022-04-19T18:40:03.489039Z",
     "shell.execute_reply.started": "2022-04-19T18:40:01.565303Z"
    }
   },
   "outputs": [
    {
     "name": "stdout",
     "output_type": "stream",
     "text": [
      "Downloading data from https://storage.googleapis.com/tensorflow/keras-applications/vgg16/vgg16_weights_tf_dim_ordering_tf_kernels.h5\n",
      "553467096/553467096 [==============================] - 13s 0us/step\n"
     ]
    }
   ],
   "source": [
    "# load the model\n",
    "model = VGG16()"
   ]
  },
  {
   "cell_type": "markdown",
   "id": "768a9d62-e067-47ed-aec5-64cbd316b53d",
   "metadata": {},
   "source": [
    "__Preprocessing__\n",
    "\n",
    "Keras provides some tools to help with this step.\n",
    "\n",
    "First, we can use the ```load_img()``` function to load the image and resize it to the required size of 224×224 pixels."
   ]
  },
  {
   "cell_type": "code",
   "execution_count": 4,
   "id": "40cbcf87-f6c5-4efc-9159-d122239ff695",
   "metadata": {
    "execution": {
     "iopub.execute_input": "2022-04-19T18:40:03.490820Z",
     "iopub.status.busy": "2022-04-19T18:40:03.490672Z",
     "iopub.status.idle": "2022-04-19T18:40:03.510613Z",
     "shell.execute_reply": "2022-04-19T18:40:03.509859Z",
     "shell.execute_reply.started": "2022-04-19T18:40:03.490800Z"
    },
    "tags": []
   },
   "outputs": [],
   "source": [
    "# load an image from file\n",
    "image = load_img('../data/img/florence.jpg', target_size=(224, 224))"
   ]
  },
  {
   "cell_type": "code",
   "execution_count": 5,
   "id": "95457755-897e-468b-b41c-6ac0934dd26b",
   "metadata": {
    "execution": {
     "iopub.execute_input": "2022-04-19T18:40:03.529122Z",
     "iopub.status.busy": "2022-04-19T18:40:03.529002Z",
     "iopub.status.idle": "2022-04-19T18:40:03.726118Z",
     "shell.execute_reply": "2022-04-19T18:40:03.725221Z",
     "shell.execute_reply.started": "2022-04-19T18:40:03.529107Z"
    }
   },
   "outputs": [
    {
     "data": {
      "image/png": "[encoded data removed]",
      "text/plain": [
       "<PIL.Image.Image image mode=RGB size=224x224>"
      ]
     },
     "execution_count": 5,
     "metadata": {},
     "output_type": "execute_result"
    }
   ],
   "source": [
    "image"
   ]
  },
  {
   "cell_type": "markdown",
   "id": "c4184ee4-0803-46d3-8a8c-038b6a352430",
   "metadata": {},
   "source": [
    "Next, we can convert the pixels to a NumPy array so that we can work with it in Keras. \n",
    "\n",
    "We can use the ```img_to_array()``` function for this."
   ]
  },
  {
   "cell_type": "code",
   "execution_count": 6,
   "id": "e943fcb0-4a78-4eab-8e72-719e189d6a6c",
   "metadata": {
    "execution": {
     "iopub.execute_input": "2022-04-19T18:40:04.428125Z",
     "iopub.status.busy": "2022-04-19T18:40:04.427131Z",
     "iopub.status.idle": "2022-04-19T18:40:04.434483Z",
     "shell.execute_reply": "2022-04-19T18:40:04.433323Z",
     "shell.execute_reply.started": "2022-04-19T18:40:04.428068Z"
    }
   },
   "outputs": [],
   "source": [
    "# convert the image pixels to a numpy array\n",
    "image = img_to_array(image)"
   ]
  },
  {
   "cell_type": "markdown",
   "id": "1ffab4fe-47c8-4842-a92e-48afac14b328",
   "metadata": {},
   "source": [
    "The network expects one or more images as input; that means the input array will need to be 4-dimensional: samples, rows, columns, and channels.\n",
    "\n",
    "We only have one sample (one image). We can reshape the array by calling ```reshape()``` and adding the extra dimension."
   ]
  },
  {
   "cell_type": "code",
   "execution_count": 7,
   "id": "23c061a8-5dfd-4d80-ab46-53485baacb82",
   "metadata": {
    "execution": {
     "iopub.execute_input": "2022-04-19T18:40:05.001447Z",
     "iopub.status.busy": "2022-04-19T18:40:05.000968Z",
     "iopub.status.idle": "2022-04-19T18:40:05.008133Z",
     "shell.execute_reply": "2022-04-19T18:40:05.007024Z",
     "shell.execute_reply.started": "2022-04-19T18:40:05.001393Z"
    }
   },
   "outputs": [],
   "source": [
    "# reshape data for the model\n",
    "image = image.reshape((1, image.shape[0], image.shape[1], image.shape[2]))"
   ]
  },
  {
   "cell_type": "markdown",
   "id": "15538ab7-9512-49f6-bfb4-630347095b60",
   "metadata": {},
   "source": [
    "Next, the image pixels need to be prepared in the same way as the ImageNet training data was prepared. Specifically, from the paper:\n",
    "\n",
    ">The only preprocessing we do is subtracting the mean RGB value, computed on the training set, from each pixel. \n",
    "\n",
    "See the paper [here](https://arxiv.org/abs/1409.1556)."
   ]
  },
  {
   "cell_type": "code",
   "execution_count": 8,
   "id": "b10ec3ad-d95d-4bb5-a2f9-9c3f107aaa30",
   "metadata": {
    "execution": {
     "iopub.execute_input": "2022-04-19T18:40:05.466547Z",
     "iopub.status.busy": "2022-04-19T18:40:05.466024Z",
     "iopub.status.idle": "2022-04-19T18:40:05.473196Z",
     "shell.execute_reply": "2022-04-19T18:40:05.472086Z",
     "shell.execute_reply.started": "2022-04-19T18:40:05.466493Z"
    }
   },
   "outputs": [],
   "source": [
    "# prepare the image for the VGG model\n",
    "image = preprocess_input(image)"
   ]
  },
  {
   "cell_type": "markdown",
   "id": "ed0ffd84-120f-407e-a3a2-a4f21a89c946",
   "metadata": {},
   "source": [
    "## Make prediction using ImageNet labels"
   ]
  },
  {
   "cell_type": "markdown",
   "id": "9710db75-fb14-4207-86a7-91531ef3679b",
   "metadata": {},
   "source": [
    "We then use the model to predict our image class and convert probabilities to class labels using ```decode_predictions()```."
   ]
  },
  {
   "cell_type": "code",
   "execution_count": 9,
   "id": "b35563c1-4c7b-44ca-b1f1-40dab03e3d84",
   "metadata": {
    "execution": {
     "iopub.execute_input": "2022-04-19T18:40:06.116408Z",
     "iopub.status.busy": "2022-04-19T18:40:06.115875Z",
     "iopub.status.idle": "2022-04-19T18:40:06.478125Z",
     "shell.execute_reply": "2022-04-19T18:40:06.476930Z",
     "shell.execute_reply.started": "2022-04-19T18:40:06.116351Z"
    }
   },
   "outputs": [
    {
     "name": "stdout",
     "output_type": "stream",
     "text": [
      "1/1 [==============================] - 1s 525ms/step\n",
      "Downloading data from https://storage.googleapis.com/download.tensorflow.org/data/imagenet_class_index.json\n",
      "35363/35363 [==============================] - 0s 1us/step\n"
     ]
    }
   ],
   "source": [
    "# predict the probability across all output classes\n",
    "y_pred = model.predict(image)\n",
    "# convert the probabilities to class labels\n",
    "label = decode_predictions(y_pred)"
   ]
  },
  {
   "cell_type": "markdown",
   "id": "0d4b34f4-c480-4a89-b5df-b1e5f3af9ee4",
   "metadata": {},
   "source": [
    "__Inspect most likely label__"
   ]
  },
  {
   "cell_type": "code",
   "execution_count": 10,
   "id": "06a8fb62-7ddc-4ea3-bb7b-530e3136ed12",
   "metadata": {
    "execution": {
     "iopub.execute_input": "2022-04-19T18:40:06.969724Z",
     "iopub.status.busy": "2022-04-19T18:40:06.968923Z",
     "iopub.status.idle": "2022-04-19T18:40:06.980527Z",
     "shell.execute_reply": "2022-04-19T18:40:06.979273Z",
     "shell.execute_reply.started": "2022-04-19T18:40:06.969631Z"
    }
   },
   "outputs": [
    {
     "data": {
      "text/plain": [
       "[[('n03220513', 'dome', 0.45702526),\n",
       "  ('n03028079', 'church', 0.301825),\n",
       "  ('n03877845', 'palace', 0.04829808),\n",
       "  ('n02930766', 'cab', 0.026109034),\n",
       "  ('n02825657', 'bell_cote', 0.024095427)]]"
      ]
     },
     "execution_count": 10,
     "metadata": {},
     "output_type": "execute_result"
    }
   ],
   "source": [
    "label"
   ]
  },
  {
   "cell_type": "markdown",
   "id": "5e622fd9-5246-4ca1-aa2a-52b30143ba00",
   "metadata": {},
   "source": [
    "## Finetune on new task"
   ]
  },
  {
   "cell_type": "markdown",
   "id": "5a7fc27b-14f4-4db4-bc70-0b4b47430032",
   "metadata": {},
   "source": [
    "We import the regular cifar10 dataset from ```keras``` and normalise."
   ]
  },
  {
   "cell_type": "code",
   "execution_count": 11,
   "id": "e90c374e-27c4-416d-8de6-d8699dee16e0",
   "metadata": {
    "execution": {
     "iopub.execute_input": "2022-04-19T18:40:09.452329Z",
     "iopub.status.busy": "2022-04-19T18:40:09.451796Z",
     "iopub.status.idle": "2022-04-19T18:40:10.600440Z",
     "shell.execute_reply": "2022-04-19T18:40:10.599742Z",
     "shell.execute_reply.started": "2022-04-19T18:40:09.452248Z"
    }
   },
   "outputs": [
    {
     "name": "stdout",
     "output_type": "stream",
     "text": [
      "Downloading data from https://www.cs.toronto.edu/~kriz/cifar-10-python.tar.gz\n",
      "170498071/170498071 [==============================] - 7s 0us/step\n"
     ]
    }
   ],
   "source": [
    "((X_train, y_train), (X_test, y_test)) = cifar10.load_data()\n",
    "X_train = X_train.astype(\"float\") / 255.\n",
    "X_test = X_test.astype(\"float\") / 255."
   ]
  },
  {
   "cell_type": "markdown",
   "id": "a8916be3-a773-4426-9beb-89e005b20083",
   "metadata": {},
   "source": [
    "__Binarize labels__"
   ]
  },
  {
   "cell_type": "code",
   "execution_count": 12,
   "id": "e47ddd3c-f9f7-47d5-b0f6-c56d62c2fed6",
   "metadata": {
    "execution": {
     "iopub.execute_input": "2022-04-19T18:40:13.057416Z",
     "iopub.status.busy": "2022-04-19T18:40:13.056891Z",
     "iopub.status.idle": "2022-04-19T18:40:13.084345Z",
     "shell.execute_reply": "2022-04-19T18:40:13.083589Z",
     "shell.execute_reply.started": "2022-04-19T18:40:13.057362Z"
    }
   },
   "outputs": [],
   "source": [
    "# integers to one-hot vectors\n",
    "lb = LabelBinarizer()\n",
    "y_train = lb.fit_transform(y_train)\n",
    "y_test = lb.fit_transform(y_test)\n",
    "\n",
    "# initialize label names for CIFAR-10 dataset\n",
    "labelNames = [\"airplane\", \"automobile\", \n",
    "              \"bird\", \"cat\", \n",
    "              \"deer\", \"dog\", \n",
    "              \"frog\", \"horse\", \n",
    "              \"ship\", \"truck\"]"
   ]
  },
  {
   "cell_type": "markdown",
   "id": "7f2b218b-7938-4425-8719-1e4d0540cde6",
   "metadata": {},
   "source": [
    "__Check tensor shape__"
   ]
  },
  {
   "cell_type": "code",
   "execution_count": 13,
   "id": "86c80da8-ec5e-48e6-8928-c52f1114b367",
   "metadata": {
    "execution": {
     "iopub.execute_input": "2022-04-19T18:58:54.344592Z",
     "iopub.status.busy": "2022-04-19T18:58:54.344079Z",
     "iopub.status.idle": "2022-04-19T18:58:54.354015Z",
     "shell.execute_reply": "2022-04-19T18:58:54.352857Z",
     "shell.execute_reply.started": "2022-04-19T18:58:54.344537Z"
    },
    "tags": []
   },
   "outputs": [
    {
     "data": {
      "text/plain": [
       "(50000, 32, 32, 3)"
      ]
     },
     "execution_count": 13,
     "metadata": {},
     "output_type": "execute_result"
    }
   ],
   "source": [
    "X_train.shape"
   ]
  },
  {
   "cell_type": "markdown",
   "id": "a7ce0603-33c7-43cf-a008-a31a612e5219",
   "metadata": {
    "execution": {
     "iopub.execute_input": "2022-04-19T18:01:38.833749Z",
     "iopub.status.busy": "2022-04-19T18:01:38.833343Z",
     "iopub.status.idle": "2022-04-19T18:01:38.839212Z",
     "shell.execute_reply": "2022-04-19T18:01:38.838307Z",
     "shell.execute_reply.started": "2022-04-19T18:01:38.833727Z"
    }
   },
   "source": [
    "__Load VGG16 *without* the classification layers__"
   ]
  },
  {
   "cell_type": "markdown",
   "id": "e5063b7a-475a-49d1-a411-59a8a065fdb7",
   "metadata": {},
   "source": [
    "Here we're just loading the convolutional layers and not the final classification network, using the argument ```include_top=False```\n",
    "\n",
    "We also redefine the input shape, to work better with our cifar10 data."
   ]
  },
  {
   "cell_type": "code",
   "execution_count": 14,
   "id": "70f27b7f-79eb-435b-9519-4d042a520a5c",
   "metadata": {
    "execution": {
     "iopub.execute_input": "2022-04-19T18:40:16.084918Z",
     "iopub.status.busy": "2022-04-19T18:40:16.084429Z",
     "iopub.status.idle": "2022-04-19T18:40:16.393600Z",
     "shell.execute_reply": "2022-04-19T18:40:16.392758Z",
     "shell.execute_reply.started": "2022-04-19T18:40:16.084863Z"
    },
    "tags": []
   },
   "outputs": [
    {
     "name": "stdout",
     "output_type": "stream",
     "text": [
      "Downloading data from https://storage.googleapis.com/tensorflow/keras-applications/vgg16/vgg16_weights_tf_dim_ordering_tf_kernels_notop.h5\n",
      "58889256/58889256 [==============================] - 2s 0us/step\n"
     ]
    }
   ],
   "source": [
    "# load model without classifier layers\n",
    "model = VGG16(include_top=False, # remove the neural net\n",
    "              pooling='avg', # instead put in a average pooling layer\n",
    "              input_shape=(32, 32, 3)) # changing the shape - our dataset is different"
   ]
  },
  {
   "cell_type": "markdown",
   "id": "8d5058a0-10b4-431b-980e-9e34d7e5addc",
   "metadata": {},
   "source": [
    "__Disable training of Conv layers__\n",
    "\n",
    "We need to disable the convolutional layers before training. Why?"
   ]
  },
  {
   "cell_type": "code",
   "execution_count": 15,
   "id": "90b0a8d0-a1a2-4861-9bb7-b6526b6ba36f",
   "metadata": {
    "execution": {
     "iopub.execute_input": "2022-04-19T18:40:17.155533Z",
     "iopub.status.busy": "2022-04-19T18:40:17.155053Z",
     "iopub.status.idle": "2022-04-19T18:40:17.163374Z",
     "shell.execute_reply": "2022-04-19T18:40:17.162337Z",
     "shell.execute_reply.started": "2022-04-19T18:40:17.155478Z"
    },
    "tags": []
   },
   "outputs": [],
   "source": [
    "# mark loaded layers as not trainable\n",
    "for layer in model.layers:\n",
    "    layer.trainable = False"
   ]
  },
  {
   "cell_type": "code",
   "execution_count": 16,
   "id": "81e2bd3d-9f08-4ab2-8bdd-b04f1836aa85",
   "metadata": {
    "execution": {
     "iopub.execute_input": "2022-04-19T18:40:17.382618Z",
     "iopub.status.busy": "2022-04-19T18:40:17.382037Z",
     "iopub.status.idle": "2022-04-19T18:40:17.422362Z",
     "shell.execute_reply": "2022-04-19T18:40:17.421406Z",
     "shell.execute_reply.started": "2022-04-19T18:40:17.382565Z"
    },
    "tags": []
   },
   "outputs": [
    {
     "name": "stdout",
     "output_type": "stream",
     "text": [
      "Model: \"vgg16\"\n",
      "_________________________________________________________________\n",
      " Layer (type)                Output Shape              Param #   \n",
      "=================================================================\n",
      " input_2 (InputLayer)        [(None, 32, 32, 3)]       0         \n",
      "                                                                 \n",
      " block1_conv1 (Conv2D)       (None, 32, 32, 64)        1792      \n",
      "                                                                 \n",
      " block1_conv2 (Conv2D)       (None, 32, 32, 64)        36928     \n",
      "                                                                 \n",
      " block1_pool (MaxPooling2D)  (None, 16, 16, 64)        0         \n",
      "                                                                 \n",
      " block2_conv1 (Conv2D)       (None, 16, 16, 128)       73856     \n",
      "                                                                 \n",
      " block2_conv2 (Conv2D)       (None, 16, 16, 128)       147584    \n",
      "                                                                 \n",
      " block2_pool (MaxPooling2D)  (None, 8, 8, 128)         0         \n",
      "                                                                 \n",
      " block3_conv1 (Conv2D)       (None, 8, 8, 256)         295168    \n",
      "                                                                 \n",
      " block3_conv2 (Conv2D)       (None, 8, 8, 256)         590080    \n",
      "                                                                 \n",
      " block3_conv3 (Conv2D)       (None, 8, 8, 256)         590080    \n",
      "                                                                 \n",
      " block3_pool (MaxPooling2D)  (None, 4, 4, 256)         0         \n",
      "                                                                 \n",
      " block4_conv1 (Conv2D)       (None, 4, 4, 512)         1180160   \n",
      "                                                                 \n",
      " block4_conv2 (Conv2D)       (None, 4, 4, 512)         2359808   \n",
      "                                                                 \n",
      " block4_conv3 (Conv2D)       (None, 4, 4, 512)         2359808   \n",
      "                                                                 \n",
      " block4_pool (MaxPooling2D)  (None, 2, 2, 512)         0         \n",
      "                                                                 \n",
      " block5_conv1 (Conv2D)       (None, 2, 2, 512)         2359808   \n",
      "                                                                 \n",
      " block5_conv2 (Conv2D)       (None, 2, 2, 512)         2359808   \n",
      "                                                                 \n",
      " block5_conv3 (Conv2D)       (None, 2, 2, 512)         2359808   \n",
      "                                                                 \n",
      " block5_pool (MaxPooling2D)  (None, 1, 1, 512)         0         \n",
      "                                                                 \n",
      " global_average_pooling2d (G  (None, 512)              0         \n",
      " lobalAveragePooling2D)                                          \n",
      "                                                                 \n",
      "=================================================================\n",
      "Total params: 14,714,688\n",
      "Trainable params: 0\n",
      "Non-trainable params: 14,714,688\n",
      "_________________________________________________________________\n"
     ]
    }
   ],
   "source": [
    "model.summary()"
   ]
  },
  {
   "cell_type": "markdown",
   "id": "c3cfd6a7-ea47-4236-abf7-d94e130c4b5a",
   "metadata": {},
   "source": [
    "__Add new classification layers__\n",
    "\n",
    "We now add new classification layers after the convolutional layers.\n",
    "\n",
    "Notice how here we are not using the ```Sequential```, so we have to explicitly name the preceding layer in the model!"
   ]
  },
  {
   "cell_type": "code",
   "execution_count": 17,
   "id": "07f4a5e7-b892-4712-a02c-aca1cc0971f8",
   "metadata": {},
   "outputs": [],
   "source": [
    "tf.keras.backend.clear_session()"
   ]
  },
  {
   "cell_type": "code",
   "execution_count": 18,
   "id": "87f8b02b-a232-42b6-b75b-7d2ef9b87fc4",
   "metadata": {
    "execution": {
     "iopub.execute_input": "2022-04-19T18:58:35.786002Z",
     "iopub.status.busy": "2022-04-19T18:58:35.785500Z",
     "iopub.status.idle": "2022-04-19T18:58:35.863824Z",
     "shell.execute_reply": "2022-04-19T18:58:35.863169Z",
     "shell.execute_reply.started": "2022-04-19T18:58:35.785947Z"
    },
    "tags": []
   },
   "outputs": [
    {
     "name": "stdout",
     "output_type": "stream",
     "text": [
      "Model: \"model\"\n",
      "_________________________________________________________________\n",
      " Layer (type)                Output Shape              Param #   \n",
      "=================================================================\n",
      " input_2 (InputLayer)        [(None, 32, 32, 3)]       0         \n",
      "                                                                 \n",
      " block1_conv1 (Conv2D)       (None, 32, 32, 64)        1792      \n",
      "                                                                 \n",
      " block1_conv2 (Conv2D)       (None, 32, 32, 64)        36928     \n",
      "                                                                 \n",
      " block1_pool (MaxPooling2D)  (None, 16, 16, 64)        0         \n",
      "                                                                 \n",
      " block2_conv1 (Conv2D)       (None, 16, 16, 128)       73856     \n",
      "                                                                 \n",
      " block2_conv2 (Conv2D)       (None, 16, 16, 128)       147584    \n",
      "                                                                 \n",
      " block2_pool (MaxPooling2D)  (None, 8, 8, 128)         0         \n",
      "                                                                 \n",
      " block3_conv1 (Conv2D)       (None, 8, 8, 256)         295168    \n",
      "                                                                 \n",
      " block3_conv2 (Conv2D)       (None, 8, 8, 256)         590080    \n",
      "                                                                 \n",
      " block3_conv3 (Conv2D)       (None, 8, 8, 256)         590080    \n",
      "                                                                 \n",
      " block3_pool (MaxPooling2D)  (None, 4, 4, 256)         0         \n",
      "                                                                 \n",
      " block4_conv1 (Conv2D)       (None, 4, 4, 512)         1180160   \n",
      "                                                                 \n",
      " block4_conv2 (Conv2D)       (None, 4, 4, 512)         2359808   \n",
      "                                                                 \n",
      " block4_conv3 (Conv2D)       (None, 4, 4, 512)         2359808   \n",
      "                                                                 \n",
      " block4_pool (MaxPooling2D)  (None, 2, 2, 512)         0         \n",
      "                                                                 \n",
      " block5_conv1 (Conv2D)       (None, 2, 2, 512)         2359808   \n",
      "                                                                 \n",
      " block5_conv2 (Conv2D)       (None, 2, 2, 512)         2359808   \n",
      "                                                                 \n",
      " block5_conv3 (Conv2D)       (None, 2, 2, 512)         2359808   \n",
      "                                                                 \n",
      " block5_pool (MaxPooling2D)  (None, 1, 1, 512)         0         \n",
      "                                                                 \n",
      " global_average_pooling2d (G  (None, 512)              0         \n",
      " lobalAveragePooling2D)                                          \n",
      "                                                                 \n",
      " flatten (Flatten)           (None, 512)               0         \n",
      "                                                                 \n",
      " dense (Dense)               (None, 128)               65664     \n",
      "                                                                 \n",
      " dense_1 (Dense)             (None, 10)                1290      \n",
      "                                                                 \n",
      "=================================================================\n",
      "Total params: 14,781,642\n",
      "Trainable params: 66,954\n",
      "Non-trainable params: 14,714,688\n",
      "_________________________________________________________________\n"
     ]
    }
   ],
   "source": [
    "# add new classifier layers\n",
    "flat1 = Flatten()(model.layers[-1].output)\n",
    "class1 = Dense(128, activation='relu')(flat1)\n",
    "output = Dense(10, activation='softmax')(class1)\n",
    "\n",
    "# the layers are a, b and lastly c\n",
    "# a -> b -> c\n",
    "# a = (new)(old)\n",
    "# b = (new)(a)\n",
    "# c = (new)(b)\n",
    "\n",
    "# define new model\n",
    "model = Model(inputs=model.inputs, \n",
    "              outputs=output)\n",
    "# summarize\n",
    "model.summary()"
   ]
  },
  {
   "cell_type": "markdown",
   "id": "a7661feb-6be0-47b6-a243-43bec3ed96da",
   "metadata": {},
   "source": [
    "__Compile__"
   ]
  },
  {
   "cell_type": "markdown",
   "id": "d20a151e-e2cf-45a9-a79f-87d466195c41",
   "metadata": {},
   "source": [
    "We're going to be using a more sophisticated optimization algorithm, which you can read about [here](https://www.tensorflow.org/api_docs/python/tf/keras/optimizers/schedules/ExponentialDecay)."
   ]
  },
  {
   "cell_type": "code",
   "execution_count": 19,
   "id": "51421b8b-2a08-4b4b-96c1-2306cae34796",
   "metadata": {
    "execution": {
     "iopub.execute_input": "2022-04-19T18:40:25.350347Z",
     "iopub.status.busy": "2022-04-19T18:40:25.349823Z",
     "iopub.status.idle": "2022-04-19T18:40:25.359091Z",
     "shell.execute_reply": "2022-04-19T18:40:25.357799Z",
     "shell.execute_reply.started": "2022-04-19T18:40:25.350291Z"
    },
    "tags": []
   },
   "outputs": [],
   "source": [
    "lr_schedule = tf.keras.optimizers.schedules.ExponentialDecay(\n",
    "    initial_learning_rate=0.01,\n",
    "    decay_steps=10000,\n",
    "    decay_rate=0.9)\n",
    "sgd = SGD(learning_rate=lr_schedule)"
   ]
  },
  {
   "cell_type": "code",
   "execution_count": 20,
   "id": "42664802-f463-4bda-afb1-fc9506a97930",
   "metadata": {
    "execution": {
     "iopub.execute_input": "2022-04-19T18:40:25.695597Z",
     "iopub.status.busy": "2022-04-19T18:40:25.695135Z",
     "iopub.status.idle": "2022-04-19T18:40:25.714727Z",
     "shell.execute_reply": "2022-04-19T18:40:25.713807Z",
     "shell.execute_reply.started": "2022-04-19T18:40:25.695543Z"
    },
    "tags": []
   },
   "outputs": [],
   "source": [
    "model.compile(optimizer=sgd,\n",
    "              loss='categorical_crossentropy',\n",
    "              metrics=['accuracy'])"
   ]
  },
  {
   "cell_type": "markdown",
   "id": "45c0f687-096f-43da-94ea-e2b6c9a3cb68",
   "metadata": {},
   "source": [
    "__Train__"
   ]
  },
  {
   "cell_type": "code",
   "execution_count": 21,
   "id": "0fb24e5f-1687-46c8-829f-420bd0527909",
   "metadata": {
    "execution": {
     "iopub.execute_input": "2022-04-19T18:40:26.867690Z",
     "iopub.status.busy": "2022-04-19T18:40:26.867170Z",
     "iopub.status.idle": "2022-04-19T19:04:00.462962Z",
     "shell.execute_reply": "2022-04-19T19:04:00.461166Z",
     "shell.execute_reply.started": "2022-04-19T18:59:02.500606Z"
    },
    "tags": []
   },
   "outputs": [
    {
     "name": "stdout",
     "output_type": "stream",
     "text": [
      "Epoch 1/10\n",
      "352/352 [==============================] - 163s 460ms/step - loss: 2.0246 - accuracy: 0.2992 - val_loss: 1.8253 - val_accuracy: 0.3992\n",
      "Epoch 2/10\n",
      "352/352 [==============================] - 157s 446ms/step - loss: 1.7454 - accuracy: 0.4110 - val_loss: 1.6455 - val_accuracy: 0.4506\n",
      "Epoch 3/10\n",
      "352/352 [==============================] - 156s 443ms/step - loss: 1.6180 - accuracy: 0.4490 - val_loss: 1.5568 - val_accuracy: 0.4738\n",
      "Epoch 4/10\n",
      "352/352 [==============================] - 156s 444ms/step - loss: 1.5442 - accuracy: 0.4710 - val_loss: 1.5002 - val_accuracy: 0.4906\n",
      "Epoch 5/10\n",
      "352/352 [==============================] - 173s 491ms/step - loss: 1.4946 - accuracy: 0.4851 - val_loss: 1.4537 - val_accuracy: 0.5050\n",
      "Epoch 6/10\n",
      "352/352 [==============================] - 211s 600ms/step - loss: 1.4574 - accuracy: 0.4971 - val_loss: 1.4203 - val_accuracy: 0.5114\n",
      "Epoch 7/10\n",
      "352/352 [==============================] - 209s 594ms/step - loss: 1.4289 - accuracy: 0.5059 - val_loss: 1.3962 - val_accuracy: 0.5164\n",
      "Epoch 8/10\n",
      "352/352 [==============================] - 221s 628ms/step - loss: 1.4061 - accuracy: 0.5138 - val_loss: 1.3730 - val_accuracy: 0.5316\n",
      "Epoch 9/10\n",
      "352/352 [==============================] - 222s 632ms/step - loss: 1.3866 - accuracy: 0.5196 - val_loss: 1.3589 - val_accuracy: 0.5326\n",
      "Epoch 10/10\n",
      "352/352 [==============================] - 192s 546ms/step - loss: 1.3693 - accuracy: 0.5264 - val_loss: 1.3477 - val_accuracy: 0.5246\n"
     ]
    }
   ],
   "source": [
    "H = model.fit(X_train, y_train, \n",
    "            validation_split=0.1,\n",
    "            batch_size=128,\n",
    "            epochs=10,\n",
    "            verbose=1)"
   ]
  },
  {
   "cell_type": "markdown",
   "id": "a461d6b6-3fc4-4951-be90-f37ca2678c22",
   "metadata": {},
   "source": [
    "__Evaluate__"
   ]
  },
  {
   "cell_type": "code",
   "execution_count": 22,
   "id": "c399b54f-d3f5-466c-a517-c182f625b045",
   "metadata": {
    "execution": {
     "iopub.execute_input": "2022-04-19T19:04:22.000252Z",
     "iopub.status.busy": "2022-04-19T19:04:21.999757Z",
     "iopub.status.idle": "2022-04-19T19:04:22.241606Z",
     "shell.execute_reply": "2022-04-19T19:04:22.241020Z",
     "shell.execute_reply.started": "2022-04-19T19:04:22.000197Z"
    },
    "tags": []
   },
   "outputs": [
    {
     "name": "stderr",
     "output_type": "stream",
     "text": [
      "/tmp/ipykernel_1594/3716877966.py:2: MatplotlibDeprecationWarning: The seaborn styles shipped by Matplotlib are deprecated since 3.6, as they no longer correspond to the styles shipped by seaborn. However, they will remain available as 'seaborn-v0_8-<style>'. Alternatively, directly use the seaborn API instead.\n",
      "  plt.style.use(\"seaborn-colorblind\")\n"
     ]
    },
    {
     "data": {
      "image/png": "[encoded data removed]",
      "text/plain": [
       "<Figure size 1200x600 with 2 Axes>"
      ]
     },
     "metadata": {},
     "output_type": "display_data"
    }
   ],
   "source": [
    "plot_history(H, 10)"
   ]
  },
  {
   "cell_type": "code",
   "execution_count": 23,
   "id": "a965d5ff-3edd-472c-aa1f-5c91ed527ed9",
   "metadata": {
    "execution": {
     "iopub.execute_input": "2022-04-19T19:04:25.887858Z",
     "iopub.status.busy": "2022-04-19T19:04:25.887365Z",
     "iopub.status.idle": "2022-04-19T19:04:30.930497Z",
     "shell.execute_reply": "2022-04-19T19:04:30.929814Z",
     "shell.execute_reply.started": "2022-04-19T19:04:25.887803Z"
    },
    "tags": []
   },
   "outputs": [
    {
     "name": "stdout",
     "output_type": "stream",
     "text": [
      "79/79 [==============================] - 33s 420ms/step\n",
      "              precision    recall  f1-score   support\n",
      "\n",
      "    airplane       0.54      0.63      0.59      1000\n",
      "  automobile       0.61      0.48      0.54      1000\n",
      "        bird       0.44      0.34      0.38      1000\n",
      "         cat       0.36      0.40      0.38      1000\n",
      "        deer       0.56      0.43      0.49      1000\n",
      "         dog       0.56      0.38      0.45      1000\n",
      "        frog       0.49      0.69      0.57      1000\n",
      "       horse       0.55      0.58      0.56      1000\n",
      "        ship       0.64      0.61      0.63      1000\n",
      "       truck       0.47      0.61      0.53      1000\n",
      "\n",
      "    accuracy                           0.52     10000\n",
      "   macro avg       0.52      0.52      0.51     10000\n",
      "weighted avg       0.52      0.52      0.51     10000\n",
      "\n"
     ]
    }
   ],
   "source": [
    "predictions = model.predict(X_test, batch_size=128)\n",
    "print(classification_report(y_test.argmax(axis=1),\n",
    "                            predictions.argmax(axis=1),\n",
    "                            target_names=labelNames))"
   ]
  },
  {
   "cell_type": "markdown",
   "id": "50a3dd55-fa11-4792-8e20-767c527b6e5c",
   "metadata": {},
   "source": [
    "## Using data augmentation"
   ]
  },
  {
   "cell_type": "markdown",
   "id": "77e42f2a-81fa-4ace-bec4-78b14217b628",
   "metadata": {},
   "source": [
    "__Reload model__"
   ]
  },
  {
   "cell_type": "code",
   "execution_count": 24,
   "id": "e6f99871",
   "metadata": {},
   "outputs": [],
   "source": [
    "del model\n",
    "tf.keras.backend.clear_session()"
   ]
  },
  {
   "cell_type": "code",
   "execution_count": 25,
   "id": "0f605dfd-c492-4a6d-9d3e-f8d99cee4a7f",
   "metadata": {
    "execution": {
     "iopub.execute_input": "2022-04-19T19:19:11.939269Z",
     "iopub.status.busy": "2022-04-19T19:19:11.938774Z",
     "iopub.status.idle": "2022-04-19T19:19:12.276631Z",
     "shell.execute_reply": "2022-04-19T19:19:12.276040Z",
     "shell.execute_reply.started": "2022-04-19T19:19:11.939215Z"
    },
    "tags": []
   },
   "outputs": [
    {
     "name": "stdout",
     "output_type": "stream",
     "text": [
      "Model: \"model\"\n",
      "_________________________________________________________________\n",
      " Layer (type)                Output Shape              Param #   \n",
      "=================================================================\n",
      " input_1 (InputLayer)        [(None, 32, 32, 3)]       0         \n",
      "                                                                 \n",
      " block1_conv1 (Conv2D)       (None, 32, 32, 64)        1792      \n",
      "                                                                 \n",
      " block1_conv2 (Conv2D)       (None, 32, 32, 64)        36928     \n",
      "                                                                 \n",
      " block1_pool (MaxPooling2D)  (None, 16, 16, 64)        0         \n",
      "                                                                 \n",
      " block2_conv1 (Conv2D)       (None, 16, 16, 128)       73856     \n",
      "                                                                 \n",
      " block2_conv2 (Conv2D)       (None, 16, 16, 128)       147584    \n",
      "                                                                 \n",
      " block2_pool (MaxPooling2D)  (None, 8, 8, 128)         0         \n",
      "                                                                 \n",
      " block3_conv1 (Conv2D)       (None, 8, 8, 256)         295168    \n",
      "                                                                 \n",
      " block3_conv2 (Conv2D)       (None, 8, 8, 256)         590080    \n",
      "                                                                 \n",
      " block3_conv3 (Conv2D)       (None, 8, 8, 256)         590080    \n",
      "                                                                 \n",
      " block3_pool (MaxPooling2D)  (None, 4, 4, 256)         0         \n",
      "                                                                 \n",
      " block4_conv1 (Conv2D)       (None, 4, 4, 512)         1180160   \n",
      "                                                                 \n",
      " block4_conv2 (Conv2D)       (None, 4, 4, 512)         2359808   \n",
      "                                                                 \n",
      " block4_conv3 (Conv2D)       (None, 4, 4, 512)         2359808   \n",
      "                                                                 \n",
      " block4_pool (MaxPooling2D)  (None, 2, 2, 512)         0         \n",
      "                                                                 \n",
      " block5_conv1 (Conv2D)       (None, 2, 2, 512)         2359808   \n",
      "                                                                 \n",
      " block5_conv2 (Conv2D)       (None, 2, 2, 512)         2359808   \n",
      "                                                                 \n",
      " block5_conv3 (Conv2D)       (None, 2, 2, 512)         2359808   \n",
      "                                                                 \n",
      " block5_pool (MaxPooling2D)  (None, 1, 1, 512)         0         \n",
      "                                                                 \n",
      " global_average_pooling2d (G  (None, 512)              0         \n",
      " lobalAveragePooling2D)                                          \n",
      "                                                                 \n",
      " flatten (Flatten)           (None, 512)               0         \n",
      "                                                                 \n",
      " batch_normalization (BatchN  (None, 512)              2048      \n",
      " ormalization)                                                   \n",
      "                                                                 \n",
      " dense (Dense)               (None, 256)               131328    \n",
      "                                                                 \n",
      " dense_1 (Dense)             (None, 128)               32896     \n",
      "                                                                 \n",
      " dense_2 (Dense)             (None, 10)                1290      \n",
      "                                                                 \n",
      "=================================================================\n",
      "Total params: 14,882,250\n",
      "Trainable params: 166,538\n",
      "Non-trainable params: 14,715,712\n",
      "_________________________________________________________________\n"
     ]
    }
   ],
   "source": [
    "# load model without classifier layers\n",
    "model = VGG16(include_top=False, \n",
    "              pooling='avg',\n",
    "              input_shape=(32, 32, 3))\n",
    "\n",
    "# mark loaded layers as not trainable\n",
    "for layer in model.layers:\n",
    "    layer.trainable = False\n",
    "    \n",
    "# add new classifier layers\n",
    "flat1 = Flatten()(model.layers[-1].output)\n",
    "bn = BatchNormalization()(flat1) # batch normalisation layer\n",
    "class1 = Dense(256, \n",
    "               activation='relu')(bn) # xtra hidden layer\n",
    "class2 = Dense(128, \n",
    "               activation='relu')(class1)\n",
    "output = Dense(10, \n",
    "               activation='softmax')(class2)\n",
    "\n",
    "# define new model\n",
    "model = Model(inputs=model.inputs, \n",
    "              outputs=output)\n",
    "\n",
    "# compile\n",
    "lr_schedule = tf.keras.optimizers.schedules.ExponentialDecay(\n",
    "    initial_learning_rate=0.01,\n",
    "    decay_steps=10000,\n",
    "    decay_rate=0.9)\n",
    "sgd = SGD(learning_rate=lr_schedule)\n",
    "\n",
    "model.compile(optimizer=sgd,\n",
    "              loss='categorical_crossentropy',\n",
    "              metrics=['accuracy'])\n",
    "# summarize\n",
    "model.summary()"
   ]
  },
  {
   "cell_type": "markdown",
   "id": "59e8ad59-8ae8-4270-a466-ebc2e230d049",
   "metadata": {},
   "source": [
    "__Define data generator__"
   ]
  },
  {
   "cell_type": "markdown",
   "id": "0a295a14-fa67-4c94-ab7e-0c4a4ae6c3c2",
   "metadata": {},
   "source": [
    "You can see the documentation for ImageDataGenerator [here](https://www.tensorflow.org/api_docs/python/tf/keras/preprocessing/image/ImageDataGenerator)"
   ]
  },
  {
   "cell_type": "code",
   "execution_count": 26,
   "id": "fb7e7ac7-0c5c-4478-a0ab-16763ca51ad9",
   "metadata": {
    "execution": {
     "iopub.execute_input": "2022-04-19T19:19:13.828189Z",
     "iopub.status.busy": "2022-04-19T19:19:13.827703Z",
     "iopub.status.idle": "2022-04-19T19:19:13.834764Z",
     "shell.execute_reply": "2022-04-19T19:19:13.833783Z",
     "shell.execute_reply.started": "2022-04-19T19:19:13.828135Z"
    },
    "tags": []
   },
   "outputs": [],
   "source": [
    "# flip along x axis (mirror image)\n",
    "datagen = ImageDataGenerator(horizontal_flip=True, # mirror image\n",
    "                             rotation_range=20) # random 20 deg rotation"
   ]
  },
  {
   "cell_type": "markdown",
   "id": "ae6b1f9d-d19a-45c7-b976-32f66ebe7094",
   "metadata": {},
   "source": [
    "We're choosing to generate data on the fly, rather than save it to a folder."
   ]
  },
  {
   "cell_type": "markdown",
   "id": "ea68aac5-b8ec-4d7b-b73a-2d09a718fbd5",
   "metadata": {},
   "source": [
    "__Train__"
   ]
  },
  {
   "cell_type": "code",
   "execution_count": 27,
   "id": "24b07adb-9a2c-480e-9579-b43a8f5ef8bd",
   "metadata": {
    "execution": {
     "iopub.execute_input": "2022-04-19T19:19:15.100013Z",
     "iopub.status.busy": "2022-04-19T19:19:15.099431Z",
     "iopub.status.idle": "2022-04-19T19:25:52.761261Z",
     "shell.execute_reply": "2022-04-19T19:25:52.760585Z",
     "shell.execute_reply.started": "2022-04-19T19:19:15.099959Z"
    },
    "tags": []
   },
   "outputs": [
    {
     "ename": "ValueError",
     "evalue": "Training and validation subsets have different number of classes after the split. If your numpy arrays are sorted by the label, you might want to shuffle them.",
     "output_type": "error",
     "traceback": [
      "\u001b[0;31m---------------------------------------------------------------------------\u001b[0m",
      "\u001b[0;31mValueError\u001b[0m                                Traceback (most recent call last)",
      "Cell \u001b[0;32mIn[27], line 5\u001b[0m\n\u001b[1;32m      2\u001b[0m datagen\u001b[39m.\u001b[39mfit(X_train)\n\u001b[1;32m      3\u001b[0m \u001b[39m# fits the model on batches with real-time data augmentation:\u001b[39;00m\n\u001b[1;32m      4\u001b[0m H \u001b[39m=\u001b[39m model\u001b[39m.\u001b[39mfit(datagen\u001b[39m.\u001b[39mflow(X_train, y_train, batch_size\u001b[39m=\u001b[39m\u001b[39m128\u001b[39m), \n\u001b[0;32m----> 5\u001b[0m               validation_data \u001b[39m=\u001b[39m datagen\u001b[39m.\u001b[39;49mflow(X_train, y_train, batch_size\u001b[39m=\u001b[39;49m\u001b[39m128\u001b[39;49m, subset \u001b[39m=\u001b[39;49m \u001b[39m\"\u001b[39;49m\u001b[39mvalidation\u001b[39;49m\u001b[39m\"\u001b[39;49m),\n\u001b[1;32m      6\u001b[0m             epochs\u001b[39m=\u001b[39m\u001b[39m10\u001b[39m) \u001b[39m# streaming data instead of loading everything in (memory saving)\u001b[39;00m\n",
      "File \u001b[0;32m~/.local/lib/python3.9/site-packages/keras/preprocessing/image.py:1545\u001b[0m, in \u001b[0;36mImageDataGenerator.flow\u001b[0;34m(self, x, y, batch_size, shuffle, sample_weight, seed, save_to_dir, save_prefix, save_format, ignore_class_split, subset)\u001b[0m\n\u001b[1;32m   1486\u001b[0m \u001b[39mdef\u001b[39;00m \u001b[39mflow\u001b[39m(\n\u001b[1;32m   1487\u001b[0m     \u001b[39mself\u001b[39m,\n\u001b[1;32m   1488\u001b[0m     x,\n\u001b[0;32m   (...)\u001b[0m\n\u001b[1;32m   1498\u001b[0m     subset\u001b[39m=\u001b[39m\u001b[39mNone\u001b[39;00m,\n\u001b[1;32m   1499\u001b[0m ):\n\u001b[1;32m   1500\u001b[0m \u001b[39m    \u001b[39m\u001b[39m\"\"\"Takes data & label arrays, generates batches of augmented data.\u001b[39;00m\n\u001b[1;32m   1501\u001b[0m \n\u001b[1;32m   1502\u001b[0m \u001b[39m    Args:\u001b[39;00m\n\u001b[0;32m   (...)\u001b[0m\n\u001b[1;32m   1543\u001b[0m \n\u001b[1;32m   1544\u001b[0m \u001b[39m    \"\"\"\u001b[39;00m\n\u001b[0;32m-> 1545\u001b[0m     \u001b[39mreturn\u001b[39;00m NumpyArrayIterator(\n\u001b[1;32m   1546\u001b[0m         x,\n\u001b[1;32m   1547\u001b[0m         y,\n\u001b[1;32m   1548\u001b[0m         \u001b[39mself\u001b[39;49m,\n\u001b[1;32m   1549\u001b[0m         batch_size\u001b[39m=\u001b[39;49mbatch_size,\n\u001b[1;32m   1550\u001b[0m         shuffle\u001b[39m=\u001b[39;49mshuffle,\n\u001b[1;32m   1551\u001b[0m         sample_weight\u001b[39m=\u001b[39;49msample_weight,\n\u001b[1;32m   1552\u001b[0m         seed\u001b[39m=\u001b[39;49mseed,\n\u001b[1;32m   1553\u001b[0m         data_format\u001b[39m=\u001b[39;49m\u001b[39mself\u001b[39;49m\u001b[39m.\u001b[39;49mdata_format,\n\u001b[1;32m   1554\u001b[0m         save_to_dir\u001b[39m=\u001b[39;49msave_to_dir,\n\u001b[1;32m   1555\u001b[0m         save_prefix\u001b[39m=\u001b[39;49msave_prefix,\n\u001b[1;32m   1556\u001b[0m         save_format\u001b[39m=\u001b[39;49msave_format,\n\u001b[1;32m   1557\u001b[0m         ignore_class_split\u001b[39m=\u001b[39;49mignore_class_split,\n\u001b[1;32m   1558\u001b[0m         subset\u001b[39m=\u001b[39;49msubset,\n\u001b[1;32m   1559\u001b[0m         dtype\u001b[39m=\u001b[39;49m\u001b[39mself\u001b[39;49m\u001b[39m.\u001b[39;49mdtype,\n\u001b[1;32m   1560\u001b[0m     )\n",
      "File \u001b[0;32m~/.local/lib/python3.9/site-packages/keras/preprocessing/image.py:736\u001b[0m, in \u001b[0;36mNumpyArrayIterator.__init__\u001b[0;34m(self, x, y, image_data_generator, batch_size, shuffle, sample_weight, seed, data_format, save_to_dir, save_prefix, save_format, subset, ignore_class_split, dtype)\u001b[0m\n\u001b[1;32m    727\u001b[0m split_idx \u001b[39m=\u001b[39m \u001b[39mint\u001b[39m(\u001b[39mlen\u001b[39m(x) \u001b[39m*\u001b[39m image_data_generator\u001b[39m.\u001b[39m_validation_split)\n\u001b[1;32m    729\u001b[0m \u001b[39mif\u001b[39;00m (\n\u001b[1;32m    730\u001b[0m     y \u001b[39mis\u001b[39;00m \u001b[39mnot\u001b[39;00m \u001b[39mNone\u001b[39;00m\n\u001b[1;32m    731\u001b[0m     \u001b[39mand\u001b[39;00m \u001b[39mnot\u001b[39;00m ignore_class_split\n\u001b[0;32m   (...)\u001b[0m\n\u001b[1;32m    734\u001b[0m     )\n\u001b[1;32m    735\u001b[0m ):\n\u001b[0;32m--> 736\u001b[0m     \u001b[39mraise\u001b[39;00m \u001b[39mValueError\u001b[39;00m(\n\u001b[1;32m    737\u001b[0m         \u001b[39m\"\u001b[39m\u001b[39mTraining and validation subsets \u001b[39m\u001b[39m\"\u001b[39m\n\u001b[1;32m    738\u001b[0m         \u001b[39m\"\u001b[39m\u001b[39mhave different number of classes after \u001b[39m\u001b[39m\"\u001b[39m\n\u001b[1;32m    739\u001b[0m         \u001b[39m\"\u001b[39m\u001b[39mthe split. If your numpy arrays are \u001b[39m\u001b[39m\"\u001b[39m\n\u001b[1;32m    740\u001b[0m         \u001b[39m\"\u001b[39m\u001b[39msorted by the label, you might want \u001b[39m\u001b[39m\"\u001b[39m\n\u001b[1;32m    741\u001b[0m         \u001b[39m\"\u001b[39m\u001b[39mto shuffle them.\u001b[39m\u001b[39m\"\u001b[39m\n\u001b[1;32m    742\u001b[0m     )\n\u001b[1;32m    744\u001b[0m \u001b[39mif\u001b[39;00m subset \u001b[39m==\u001b[39m \u001b[39m\"\u001b[39m\u001b[39mvalidation\u001b[39m\u001b[39m\"\u001b[39m:\n\u001b[1;32m    745\u001b[0m     x \u001b[39m=\u001b[39m x[:split_idx]\n",
      "\u001b[0;31mValueError\u001b[0m: Training and validation subsets have different number of classes after the split. If your numpy arrays are sorted by the label, you might want to shuffle them."
     ]
    }
   ],
   "source": [
    "# fit the data generator to our images\n",
    "datagen.fit(X_train)\n",
    "# fits the model on batches with real-time data augmentation:\n",
    "H = model.fit(datagen.flow(X_train, y_train, batch_size=128), \n",
    "              validation_data = datagen.flow(X_train, y_train, batch_size=128, subset = \"validation\"),\n",
    "            epochs=10) # streaming data instead of loading everything in (memory saving)"
   ]
  },
  {
   "cell_type": "markdown",
   "id": "df796d8d-dc20-4e60-9b89-4ac999fbb130",
   "metadata": {},
   "source": [
    "__Inspect__"
   ]
  },
  {
   "cell_type": "code",
   "execution_count": null,
   "id": "258a52ea-38ec-429e-a121-6f62705d5bf9",
   "metadata": {
    "execution": {
     "iopub.execute_input": "2022-04-19T19:25:57.578025Z",
     "iopub.status.busy": "2022-04-19T19:25:57.577534Z",
     "iopub.status.idle": "2022-04-19T19:25:57.820903Z",
     "shell.execute_reply": "2022-04-19T19:25:57.820297Z",
     "shell.execute_reply.started": "2022-04-19T19:25:57.577971Z"
    },
    "tags": []
   },
   "outputs": [],
   "source": [
    "plot_history(H, 10)"
   ]
  },
  {
   "cell_type": "markdown",
   "id": "1dad7ff0-6f15-49f4-943c-0f8ea9d3538c",
   "metadata": {},
   "source": [
    "__Evaluate__"
   ]
  },
  {
   "cell_type": "code",
   "execution_count": null,
   "id": "6cf5eadd-df2f-42bc-8535-470fa910ed1c",
   "metadata": {
    "execution": {
     "iopub.execute_input": "2022-04-19T19:26:05.726153Z",
     "iopub.status.busy": "2022-04-19T19:26:05.725664Z",
     "iopub.status.idle": "2022-04-19T19:26:10.821945Z",
     "shell.execute_reply": "2022-04-19T19:26:10.821391Z",
     "shell.execute_reply.started": "2022-04-19T19:26:05.726098Z"
    },
    "tags": []
   },
   "outputs": [],
   "source": [
    "predictions = model.predict(X_test, batch_size=128)\n",
    "print(classification_report(y_test.argmax(axis=1),\n",
    "                            predictions.argmax(axis=1),\n",
    "                            target_names=labelNames))"
   ]
  }
 ],
 "metadata": {
  "kernelspec": {
   "display_name": "Python 3",
   "language": "python",
   "name": "python3"
  },
  "language_info": {
   "codemirror_mode": {
    "name": "ipython",
    "version": 3
   },
   "file_extension": ".py",
   "mimetype": "text/x-python",
   "name": "python",
   "nbconvert_exporter": "python",
   "pygments_lexer": "ipython3",
   "version": "3.9.2"
  },
  "vscode": {
   "interpreter": {
    "hash": "767d51c1340bd893661ea55ea3124f6de3c7a262a8b4abca0554b478b1e2ff90"
   }
  }
 },
 "nbformat": 4,
 "nbformat_minor": 5
}
